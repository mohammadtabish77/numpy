{
 "cells": [
  {
   "cell_type": "markdown",
   "id": "8b14c3e9-03d1-45d6-8f98-b15de4aff675",
   "metadata": {},
   "source": [
    "Q1. Difference in data type between variables list_ and array_list"
   ]
  },
  {
   "cell_type": "code",
   "execution_count": 1,
   "id": "f161dae0-542c-4f5e-98e4-24960458641b",
   "metadata": {},
   "outputs": [
    {
     "name": "stdout",
     "output_type": "stream",
     "text": [
      "Data type of list_: <class 'str'>\n",
      "Data type of array_list: <U1\n"
     ]
    }
   ],
   "source": [
    "import numpy as np\n",
    "\n",
    "list_ = ['1', '2', '3', '4', '5']\n",
    "array_list = np.array(object=list_)\n",
    "\n",
    "# Print data types\n",
    "print(\"Data type of list_:\", type(list_[0]))\n",
    "print(\"Data type of array_list:\", array_list.dtype)\n"
   ]
  },
  {
   "cell_type": "markdown",
   "id": "bf1d13b6-bf27-4d5c-bb14-f823589c96f3",
   "metadata": {},
   "source": [
    "Explanation:\n",
    "\n",
    "list_ contains string elements (like '1', '2', etc.).\n",
    "array_list is created using np.array() which converts the elements to a common data type (<U1 which means Unicode string of length 1) unless specified otherwise."
   ]
  },
  {
   "cell_type": "markdown",
   "id": "ce1bbd6b-1733-4cda-a83f-e27d62f5ca5c",
   "metadata": {},
   "source": [
    "Q2. Print data type of each element in list_ and array_list"
   ]
  },
  {
   "cell_type": "code",
   "execution_count": 2,
   "id": "61ade15a-b836-4ce4-a1c0-db671f98e803",
   "metadata": {},
   "outputs": [
    {
     "name": "stdout",
     "output_type": "stream",
     "text": [
      "Data type of each element in list_:\n",
      "<class 'str'>\n",
      "<class 'str'>\n",
      "<class 'str'>\n",
      "<class 'str'>\n",
      "<class 'str'>\n",
      "\n",
      "Data type of each element in array_list:\n",
      "<class 'numpy.str_'>\n",
      "<class 'numpy.str_'>\n",
      "<class 'numpy.str_'>\n",
      "<class 'numpy.str_'>\n",
      "<class 'numpy.str_'>\n"
     ]
    }
   ],
   "source": [
    "import numpy as np\n",
    "\n",
    "list_ = ['1', '2', '3', '4', '5']\n",
    "array_list = np.array(object=list_)\n",
    "\n",
    "# Print data types of elements\n",
    "print(\"Data type of each element in list_:\")\n",
    "for elem in list_:\n",
    "    print(type(elem))\n",
    "\n",
    "print(\"\\nData type of each element in array_list:\")\n",
    "for elem in array_list:\n",
    "    print(type(elem))\n"
   ]
  },
  {
   "cell_type": "markdown",
   "id": "7a06fdf1-12fe-4468-9b71-c8c66fcd1c43",
   "metadata": {},
   "source": [
    "Explanation:\n",
    "\n",
    "type(elem) within the loop will print the data type of each element in list_ and array_list."
   ]
  },
  {
   "cell_type": "markdown",
   "id": "09a2e9c0-3415-4d29-9d0e-fb9fbd06c62f",
   "metadata": {},
   "source": [
    "Q3. Difference in data type after explicitly converting array_list elements to int"
   ]
  },
  {
   "cell_type": "code",
   "execution_count": 3,
   "id": "44d32abd-974b-49a0-9ac7-6b01d3f91b52",
   "metadata": {},
   "outputs": [
    {
     "name": "stdout",
     "output_type": "stream",
     "text": [
      "Data type of each element in list_:\n",
      "<class 'str'>\n",
      "<class 'str'>\n",
      "<class 'str'>\n",
      "<class 'str'>\n",
      "<class 'str'>\n",
      "\n",
      "Data type of each element in array_list:\n",
      "<class 'numpy.int64'>\n",
      "<class 'numpy.int64'>\n",
      "<class 'numpy.int64'>\n",
      "<class 'numpy.int64'>\n",
      "<class 'numpy.int64'>\n"
     ]
    }
   ],
   "source": [
    "import numpy as np\n",
    "\n",
    "list_ = ['1', '2', '3', '4', '5']\n",
    "array_list = np.array(object=list_, dtype=int)\n",
    "\n",
    "# Print data types of elements\n",
    "print(\"Data type of each element in list_:\")\n",
    "for elem in list_:\n",
    "    print(type(elem))\n",
    "\n",
    "print(\"\\nData type of each element in array_list:\")\n",
    "for elem in array_list:\n",
    "    print(type(elem))\n"
   ]
  },
  {
   "cell_type": "markdown",
   "id": "79ca5af3-917c-4528-b89f-8e2c65e8bb6f",
   "metadata": {},
   "source": [
    "Explanation:\n",
    "\n",
    "After specifying dtype=int, array_list will contain elements of integer type (int64 by default in this case)."
   ]
  },
  {
   "cell_type": "markdown",
   "id": "5f06f6ad-9489-4210-a407-fd999206020c",
   "metadata": {},
   "source": [
    "Q4. Characteristics of num_array"
   ]
  },
  {
   "cell_type": "code",
   "execution_count": 5,
   "id": "87ce6806-4255-43e1-bc6c-f28ff2d9dd51",
   "metadata": {},
   "outputs": [
    {
     "name": "stdout",
     "output_type": "stream",
     "text": [
      "Shape of num_array: (2, 3)\n",
      "Size of num_array: 6\n"
     ]
    }
   ],
   "source": [
    "import numpy as np\n",
    "\n",
    "num_list = [[1, 2, 3], [4, 5, 6]]\n",
    "num_array = np.array(object=num_list)\n",
    "\n",
    "# Shape and size of num_array\n",
    "print(\"Shape of num_array:\", num_array.shape)\n",
    "print(\"Size of num_array:\", num_array.size)\n"
   ]
  },
  {
   "cell_type": "markdown",
   "id": "942cd436-55ce-424d-b9f7-03800785b0a1",
   "metadata": {},
   "source": [
    "Explanation:\n",
    "\n",
    ".shape gives the dimensions (shape) of the array (2, 3) in this case.\n",
    ".size gives the total number of elements in the array 6 in this case."
   ]
  },
  {
   "cell_type": "markdown",
   "id": "eba54a9c-61c0-4fe2-a053-73c2278dc835",
   "metadata": {},
   "source": [
    "Q5. Create a numpy array of zeros with shape (3, 3)"
   ]
  },
  {
   "cell_type": "code",
   "execution_count": 6,
   "id": "d9f05014-2804-4b5c-b3ed-7371da8911d8",
   "metadata": {},
   "outputs": [
    {
     "name": "stdout",
     "output_type": "stream",
     "text": [
      "3x3 Matrix of Zeros:\n",
      "[[0. 0. 0.]\n",
      " [0. 0. 0.]\n",
      " [0. 0. 0.]]\n"
     ]
    }
   ],
   "source": [
    "import numpy as np\n",
    "\n",
    "zeros_array = np.zeros((3, 3))\n",
    "print(\"3x3 Matrix of Zeros:\")\n",
    "print(zeros_array)\n"
   ]
  },
  {
   "cell_type": "markdown",
   "id": "f1cef535-ac85-4880-b1b1-16b95fd26368",
   "metadata": {},
   "source": [
    "Explanation:\n",
    "\n",
    "np.zeros((3, 3)) creates a 3x3 matrix filled with zeros."
   ]
  },
  {
   "cell_type": "markdown",
   "id": "3c5ba162-b4ed-44cc-acbe-e8a880a9d665",
   "metadata": {},
   "source": [
    "Q6. Create an identity matrix of shape (5, 5)"
   ]
  },
  {
   "cell_type": "code",
   "execution_count": 8,
   "id": "741e872f-4c60-474c-9f63-587b075c6ab0",
   "metadata": {},
   "outputs": [
    {
     "name": "stdout",
     "output_type": "stream",
     "text": [
      "Identity Matrix of shape (5, 5):\n",
      "[[1. 0. 0. 0. 0.]\n",
      " [0. 1. 0. 0. 0.]\n",
      " [0. 0. 1. 0. 0.]\n",
      " [0. 0. 0. 1. 0.]\n",
      " [0. 0. 0. 0. 1.]]\n"
     ]
    }
   ],
   "source": [
    "import numpy as np\n",
    "\n",
    "identity_matrix = np.eye(5)\n",
    "print(\"Identity Matrix of shape (5, 5):\")\n",
    "print(identity_matrix)\n"
   ]
  },
  {
   "cell_type": "markdown",
   "id": "f24335e4-cf4b-4f96-9b03-7cdff932b75c",
   "metadata": {},
   "source": [
    "Explanation:\n",
    "\n",
    "np.eye(5) creates a 5x5 identity matrix, where all diagonal elements are 1 and all off-diagonal elements are 0.\n",
    "These examples demonstrate basic operations with NumPy arrays, including data type handling, array creation, and matrix operations. Adjust parameters such as shape and data types as needed for your specific requirements."
   ]
  },
  {
   "cell_type": "code",
   "execution_count": null,
   "id": "84961770-c3a8-4223-82bf-8e75512d79c4",
   "metadata": {},
   "outputs": [],
   "source": []
  }
 ],
 "metadata": {
  "kernelspec": {
   "display_name": "Python 3 (ipykernel)",
   "language": "python",
   "name": "python3"
  },
  "language_info": {
   "codemirror_mode": {
    "name": "ipython",
    "version": 3
   },
   "file_extension": ".py",
   "mimetype": "text/x-python",
   "name": "python",
   "nbconvert_exporter": "python",
   "pygments_lexer": "ipython3",
   "version": "3.10.8"
  }
 },
 "nbformat": 4,
 "nbformat_minor": 5
}
